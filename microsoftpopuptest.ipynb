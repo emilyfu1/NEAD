{
 "cells": [
  {
   "cell_type": "code",
   "execution_count": 2,
   "metadata": {},
   "outputs": [],
   "source": [
    "import requests\n",
    "from requests import get\n",
    "from bs4 import BeautifulSoup\n",
    "import pandas as pd\n",
    "import numpy as np\n",
    "\n",
    "from time import sleep\n",
    "from random import randint"
   ]
  },
  {
   "cell_type": "code",
   "execution_count": 100,
   "metadata": {},
   "outputs": [
    {
     "name": "stdout",
     "output_type": "stream",
     "text": [
      "['(In millions)', 'ThreeÂ\\xa0MonthsÂ\\xa0Ended SeptemberÂ\\xa030,', 'Â\\xa0', 'Server products and cloud services', 'Office products and cloud services', 'Windows', 'Gaming', 'LinkedIn', 'Search advertising', 'Enterprise Services', 'Devices', 'Other', 'Total']\n",
      "['2020', 'Â\\xa0', '11,195', '9,278', '5,305', '3,092', '2,206', '1,789', '1,637', '1,620', '1,032', '37,154', '2020', 'Â\\xa0', '12,729', '9,881', '5,716', '5,031', '2,577', '2,184', '2,120', '1,695', '1,143', '43,076', '2021', 'Â\\xa0', '13,204', '10,016', '5,646', '3,533', '2,562', '2,218', '1,599', '1,803', '1,125', '41,706']\n"
     ]
    },
    {
     "data": {
      "text/plain": [
       "36"
      ]
     },
     "execution_count": 100,
     "metadata": {},
     "output_type": "execute_result"
    }
   ],
   "source": [
    "# link: https://www.microsoft.com/en-us/Investor/earnings/FY-2021-Q2/IRFinancialStatementsPopups?tag=us-gaap:SegmentReportingDisclosureTextBlock&title=Productivity%20and%20Business%20Processes\n",
    "\n",
    "# years = np.arange(2017, 2021, 1)\n",
    "pages = np.arange(1, 4, 1)\n",
    "\n",
    "# ['Server products and cloud services', 'Office products and cloud services', 'Windows', 'Gaming', 'LinkedIn', 'Search advertising', 'Devices', 'Enterprise Services', 'Other', 'Total']\n",
    "\n",
    "col1 = []\n",
    "\n",
    "col2 = []\n",
    "\n",
    "# for year in years:\n",
    "for page in pages:\n",
    "\n",
    "    url = 'https://www.microsoft.com/en-us/Investor/earnings/FY-' + str(year) + '-Q' + str(page) + '/IRFinancialStatementsPopups?tag=us-gaap:SegmentReportingDisclosureTextBlock&title=Productivity%20and%20Business%20Processes'\n",
    "\n",
    "    results = requests.get(url)\n",
    "\n",
    "    soup = BeautifulSoup(results.text, \"html.parser\")\n",
    "\n",
    "    alltables = soup.find_all('table', attrs={'style' : \"margin:auto;border-collapse:collapse; width:100%;\"})\n",
    "\n",
    "    for table in alltables:\n",
    "        if ('Gaming' in str(table)):\n",
    "            rows = table.find_all('tr')\n",
    "            # print(table)\n",
    "            for row in rows:\n",
    "                if row.find('td', attrs = {'style' : [\"width:69.74%;\",\"background-color:#E5E5E5;width:69.74%;\"]}):\n",
    "                    names = row.find('td', attrs = {'style' : [\"width:69.74%;\",\"background-color:#E5E5E5;width:69.74%;\"]}).p.text\n",
    "                    col1.append(names)\n",
    "                else:\n",
    "                    pass\n",
    "                if row.find('td', attrs = {'style' : [\"width:12%;\",\"background-color:#E5E5E5;width:12%;\", \"width:10%;\", \"background-color:#E5E5E5;width:10%;\"]}):\n",
    "                    values = row.find('td', attrs = {'style' : [\"width:12%;\",\"background-color:#E5E5E5;width:12%;\", \"width:10%;\", \"background-color:#E5E5E5;width:10%;\"]}).p.text\n",
    "                    col2.append(values)\n",
    "                else:\n",
    "                    pass\n",
    "            \n",
    "            \n",
    "            \n",
    "\n",
    "# print(alltables)\n",
    "# print(rows)\n",
    "# len(rows)\n",
    "print(col1)\n",
    "print(col2)\n",
    "len(col1)\n",
    "len(col2)"
   ]
  },
  {
   "cell_type": "code",
   "execution_count": 101,
   "metadata": {},
   "outputs": [
    {
     "data": {
      "text/plain": [
       "array([2018, 2019, 2020, 2021])"
      ]
     },
     "execution_count": 101,
     "metadata": {},
     "output_type": "execute_result"
    }
   ],
   "source": []
  },
  {
   "cell_type": "code",
   "execution_count": 83,
   "metadata": {},
   "outputs": [
    {
     "data": {
      "text/html": [
       "<div>\n",
       "<style scoped>\n",
       "    .dataframe tbody tr th:only-of-type {\n",
       "        vertical-align: middle;\n",
       "    }\n",
       "\n",
       "    .dataframe tbody tr th {\n",
       "        vertical-align: top;\n",
       "    }\n",
       "\n",
       "    .dataframe thead th {\n",
       "        text-align: right;\n",
       "    }\n",
       "</style>\n",
       "<table border=\"1\" class=\"dataframe\">\n",
       "  <thead>\n",
       "    <tr style=\"text-align: right;\">\n",
       "      <th></th>\n",
       "      <th>Revenue</th>\n",
       "      <th>FY21Q1</th>\n",
       "      <th>FY21Q2</th>\n",
       "      <th>FY21Q3</th>\n",
       "    </tr>\n",
       "  </thead>\n",
       "  <tbody>\n",
       "    <tr>\n",
       "      <th>0</th>\n",
       "      <td>ThreeÂ MonthsÂ Ended SeptemberÂ 30,</td>\n",
       "      <td>2020</td>\n",
       "      <td>2020</td>\n",
       "      <td>2021</td>\n",
       "    </tr>\n",
       "    <tr>\n",
       "      <th>1</th>\n",
       "      <td>Â</td>\n",
       "      <td>Â</td>\n",
       "      <td>Â</td>\n",
       "      <td>Â</td>\n",
       "    </tr>\n",
       "    <tr>\n",
       "      <th>2</th>\n",
       "      <td>Server products and cloud services</td>\n",
       "      <td>11,195</td>\n",
       "      <td>12,729</td>\n",
       "      <td>13,204</td>\n",
       "    </tr>\n",
       "    <tr>\n",
       "      <th>3</th>\n",
       "      <td>Office products and cloud services</td>\n",
       "      <td>9,278</td>\n",
       "      <td>9,881</td>\n",
       "      <td>10,016</td>\n",
       "    </tr>\n",
       "    <tr>\n",
       "      <th>4</th>\n",
       "      <td>Windows</td>\n",
       "      <td>5,305</td>\n",
       "      <td>5,716</td>\n",
       "      <td>5,646</td>\n",
       "    </tr>\n",
       "    <tr>\n",
       "      <th>5</th>\n",
       "      <td>Gaming</td>\n",
       "      <td>3,092</td>\n",
       "      <td>5,031</td>\n",
       "      <td>3,533</td>\n",
       "    </tr>\n",
       "    <tr>\n",
       "      <th>6</th>\n",
       "      <td>LinkedIn</td>\n",
       "      <td>2,206</td>\n",
       "      <td>2,577</td>\n",
       "      <td>2,562</td>\n",
       "    </tr>\n",
       "    <tr>\n",
       "      <th>7</th>\n",
       "      <td>Search advertising</td>\n",
       "      <td>1,789</td>\n",
       "      <td>2,184</td>\n",
       "      <td>2,218</td>\n",
       "    </tr>\n",
       "    <tr>\n",
       "      <th>8</th>\n",
       "      <td>Enterprise Services</td>\n",
       "      <td>1,637</td>\n",
       "      <td>2,120</td>\n",
       "      <td>1,599</td>\n",
       "    </tr>\n",
       "    <tr>\n",
       "      <th>9</th>\n",
       "      <td>Devices</td>\n",
       "      <td>1,620</td>\n",
       "      <td>1,695</td>\n",
       "      <td>1,803</td>\n",
       "    </tr>\n",
       "    <tr>\n",
       "      <th>10</th>\n",
       "      <td>Other</td>\n",
       "      <td>1,032</td>\n",
       "      <td>1,143</td>\n",
       "      <td>1,125</td>\n",
       "    </tr>\n",
       "    <tr>\n",
       "      <th>11</th>\n",
       "      <td>Total</td>\n",
       "      <td>37,154</td>\n",
       "      <td>43,076</td>\n",
       "      <td>41,706</td>\n",
       "    </tr>\n",
       "  </tbody>\n",
       "</table>\n",
       "</div>"
      ],
      "text/plain": [
       "                                Revenue  FY21Q1  FY21Q2  FY21Q3\n",
       "0   ThreeÂ MonthsÂ Ended SeptemberÂ 30,    2020    2020    2021\n",
       "1                                    Â       Â       Â       Â \n",
       "2    Server products and cloud services  11,195  12,729  13,204\n",
       "3    Office products and cloud services   9,278   9,881  10,016\n",
       "4                               Windows   5,305   5,716   5,646\n",
       "5                                Gaming   3,092   5,031   3,533\n",
       "6                              LinkedIn   2,206   2,577   2,562\n",
       "7                    Search advertising   1,789   2,184   2,218\n",
       "8                   Enterprise Services   1,637   2,120   1,599\n",
       "9                               Devices   1,620   1,695   1,803\n",
       "10                                Other   1,032   1,143   1,125\n",
       "11                                Total  37,154  43,076  41,706"
      ]
     },
     "execution_count": 83,
     "metadata": {},
     "output_type": "execute_result"
    }
   ],
   "source": [
    "df = pd.DataFrame({\n",
    "    'Revenue': col1[1:13],\n",
    "    'FY21Q1': col2[0:12],\n",
    "    'FY21Q2': col2[12:24],\n",
    "    'FY21Q3': col2[24:36],\n",
    "})\n",
    "\n",
    "df"
   ]
  },
  {
   "cell_type": "code",
   "execution_count": 77,
   "metadata": {},
   "outputs": [
    {
     "name": "stdout",
     "output_type": "stream",
     "text": [
      "['2020', 'Â\\xa0', '11,195', '9,278', '5,305', '3,092', '2,206', '1,789', '1,637', '1,620', '1,032', '37,154']\n"
     ]
    }
   ],
   "source": [
    "print(col2[0:12])"
   ]
  },
  {
   "cell_type": "code",
   "execution_count": 80,
   "metadata": {},
   "outputs": [
    {
     "name": "stdout",
     "output_type": "stream",
     "text": [
      "['2020', 'Â\\xa0', '12,729', '9,881', '5,716', '5,031', '2,577', '2,184', '2,120', '1,695', '1,143', '43,076']\n"
     ]
    }
   ],
   "source": [
    "print(col2[12:24])"
   ]
  },
  {
   "cell_type": "code",
   "execution_count": 81,
   "metadata": {},
   "outputs": [
    {
     "name": "stdout",
     "output_type": "stream",
     "text": [
      "['2021', 'Â\\xa0', '13,204', '10,016', '5,646', '3,533', '2,562', '2,218', '1,599', '1,803', '1,125', '41,706']\n"
     ]
    }
   ],
   "source": [
    "print(col2[24:36])"
   ]
  },
  {
   "cell_type": "code",
   "execution_count": null,
   "metadata": {},
   "outputs": [],
   "source": []
  }
 ],
 "metadata": {
  "kernelspec": {
   "display_name": "Python 3",
   "language": "python",
   "name": "python3"
  },
  "language_info": {
   "codemirror_mode": {
    "name": "ipython",
    "version": 3
   },
   "file_extension": ".py",
   "mimetype": "text/x-python",
   "name": "python",
   "nbconvert_exporter": "python",
   "pygments_lexer": "ipython3",
   "version": "3.8.5"
  }
 },
 "nbformat": 4,
 "nbformat_minor": 4
}
