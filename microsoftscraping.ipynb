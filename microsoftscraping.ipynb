{
 "cells": [
  {
   "cell_type": "code",
   "execution_count": 201,
   "metadata": {},
   "outputs": [],
   "source": [
    "import requests\n",
    "from requests import get\n",
    "from bs4 import BeautifulSoup\n",
    "import pandas as pd\n",
    "import numpy as np\n",
    "\n",
    "from time import sleep\n",
    "from random import randint"
   ]
  },
  {
   "cell_type": "code",
   "execution_count": 215,
   "metadata": {},
   "outputs": [],
   "source": [
    "pages = np.arange(1, 4, 1)\n",
    "\n",
    "col1 = ['Revenue', 'Productivity and Business Processes', 'Intelligent Cloud', 'More Personal Computing', 'Total', 'Operating Income', 'Productivity and Business Processes', 'Intelligent Cloud', 'More Personal Computing', 'Total']\n",
    "\n",
    "col2 = []\n",
    "\n",
    "for page in pages:\n",
    "\n",
    "    url = 'https://www.microsoft.com/en-us/Investor/earnings/FY-2021-Q' + str(page) + '/segment-revenues'\n",
    "\n",
    "    results = requests.get(url)\n",
    "\n",
    "    soup = BeautifulSoup(results.text, \"html.parser\")\n",
    "    \n",
    "    table = soup.find('table', attrs={'itemtype' : \"https://schema.org/ItemList\"})\n",
    "    tablebody = table.find('tbody')\n",
    "\n",
    "    rows = tablebody.find_all('tr')\n",
    "    \n",
    "    sleep(randint(2,10))\n",
    "    \n",
    "    for row in rows:  \n",
    "        values = row.find('span', attrs={'itemprop': 'price'}).text if row.find('span', attrs={'itemprop': 'price'}) else ''\n",
    "        col2.append(values) "
   ]
  },
  {
   "cell_type": "code",
   "execution_count": 217,
   "metadata": {},
   "outputs": [
    {
     "name": "stdout",
     "output_type": "stream",
     "text": [
      "['', '13,353', '14,601', '15,122', '43,076', '', '6,181', '6,492', '5,224', '17,897']\n"
     ]
    }
   ],
   "source": [
    "print(col2[10:20])"
   ]
  },
  {
   "cell_type": "code",
   "execution_count": 218,
   "metadata": {},
   "outputs": [
    {
     "data": {
      "text/html": [
       "<div>\n",
       "<style scoped>\n",
       "    .dataframe tbody tr th:only-of-type {\n",
       "        vertical-align: middle;\n",
       "    }\n",
       "\n",
       "    .dataframe tbody tr th {\n",
       "        vertical-align: top;\n",
       "    }\n",
       "\n",
       "    .dataframe thead th {\n",
       "        text-align: right;\n",
       "    }\n",
       "</style>\n",
       "<table border=\"1\" class=\"dataframe\">\n",
       "  <thead>\n",
       "    <tr style=\"text-align: right;\">\n",
       "      <th></th>\n",
       "      <th>Revenue</th>\n",
       "      <th>FY21Q1</th>\n",
       "      <th>FY21Q2</th>\n",
       "      <th>FY21Q3</th>\n",
       "    </tr>\n",
       "  </thead>\n",
       "  <tbody>\n",
       "    <tr>\n",
       "      <th>0</th>\n",
       "      <td>Revenue</td>\n",
       "      <td></td>\n",
       "      <td></td>\n",
       "      <td></td>\n",
       "    </tr>\n",
       "    <tr>\n",
       "      <th>1</th>\n",
       "      <td>Productivity and Business Processes</td>\n",
       "      <td>12,319</td>\n",
       "      <td>13,353</td>\n",
       "      <td>13,552</td>\n",
       "    </tr>\n",
       "    <tr>\n",
       "      <th>2</th>\n",
       "      <td>Intelligent Cloud</td>\n",
       "      <td>12,986</td>\n",
       "      <td>14,601</td>\n",
       "      <td>15,118</td>\n",
       "    </tr>\n",
       "    <tr>\n",
       "      <th>3</th>\n",
       "      <td>More Personal Computing</td>\n",
       "      <td>11,849</td>\n",
       "      <td>15,122</td>\n",
       "      <td>13,036</td>\n",
       "    </tr>\n",
       "    <tr>\n",
       "      <th>4</th>\n",
       "      <td>Total</td>\n",
       "      <td>37,154</td>\n",
       "      <td>43,076</td>\n",
       "      <td>41,706</td>\n",
       "    </tr>\n",
       "    <tr>\n",
       "      <th>5</th>\n",
       "      <td>Operating Income</td>\n",
       "      <td></td>\n",
       "      <td></td>\n",
       "      <td></td>\n",
       "    </tr>\n",
       "    <tr>\n",
       "      <th>6</th>\n",
       "      <td>Productivity and Business Processes</td>\n",
       "      <td>5,706</td>\n",
       "      <td>6,181</td>\n",
       "      <td>6,029</td>\n",
       "    </tr>\n",
       "    <tr>\n",
       "      <th>7</th>\n",
       "      <td>Intelligent Cloud</td>\n",
       "      <td>5,422</td>\n",
       "      <td>6,492</td>\n",
       "      <td>6,425</td>\n",
       "    </tr>\n",
       "    <tr>\n",
       "      <th>8</th>\n",
       "      <td>More Personal Computing</td>\n",
       "      <td>4,748</td>\n",
       "      <td>5,224</td>\n",
       "      <td>4,594</td>\n",
       "    </tr>\n",
       "    <tr>\n",
       "      <th>9</th>\n",
       "      <td>Total</td>\n",
       "      <td>15,876</td>\n",
       "      <td>17,897</td>\n",
       "      <td>17,048</td>\n",
       "    </tr>\n",
       "  </tbody>\n",
       "</table>\n",
       "</div>"
      ],
      "text/plain": [
       "                               Revenue  FY21Q1  FY21Q2  FY21Q3\n",
       "0                              Revenue                        \n",
       "1  Productivity and Business Processes  12,319  13,353  13,552\n",
       "2                    Intelligent Cloud  12,986  14,601  15,118\n",
       "3              More Personal Computing  11,849  15,122  13,036\n",
       "4                                Total  37,154  43,076  41,706\n",
       "5                     Operating Income                        \n",
       "6  Productivity and Business Processes   5,706   6,181   6,029\n",
       "7                    Intelligent Cloud   5,422   6,492   6,425\n",
       "8              More Personal Computing   4,748   5,224   4,594\n",
       "9                                Total  15,876  17,897  17,048"
      ]
     },
     "execution_count": 218,
     "metadata": {},
     "output_type": "execute_result"
    }
   ],
   "source": [
    "df = pd.DataFrame({\n",
    "    'Revenue': col1,\n",
    "    'FY21Q1': col2[0:10],\n",
    "    'FY21Q2': col2[10:20],\n",
    "    'FY21Q3': col2[20:30],\n",
    "})\n",
    "\n",
    "df"
   ]
  },
  {
   "cell_type": "code",
   "execution_count": 214,
   "metadata": {},
   "outputs": [
    {
     "name": "stdout",
     "output_type": "stream",
     "text": [
      "Revenue    object\n",
      "FY21Q1     object\n",
      "FY21Q2     object\n",
      "FY21Q3     object\n",
      "dtype: object\n"
     ]
    }
   ],
   "source": [
    "print(df.dtypes)"
   ]
  },
  {
   "cell_type": "code",
   "execution_count": 226,
   "metadata": {},
   "outputs": [],
   "source": [
    "df.to_csv('test.csv')"
   ]
  }
 ],
 "metadata": {
  "kernelspec": {
   "display_name": "Python 3",
   "language": "python",
   "name": "python3"
  },
  "language_info": {
   "codemirror_mode": {
    "name": "ipython",
    "version": 3
   },
   "file_extension": ".py",
   "mimetype": "text/x-python",
   "name": "python",
   "nbconvert_exporter": "python",
   "pygments_lexer": "ipython3",
   "version": "3.8.5"
  }
 },
 "nbformat": 4,
 "nbformat_minor": 4
}
