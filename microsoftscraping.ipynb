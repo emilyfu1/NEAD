{
 "cells": [
  {
   "cell_type": "code",
   "execution_count": 2,
   "metadata": {},
   "outputs": [],
   "source": [
    "import requests\n",
    "from requests import get\n",
    "from bs4 import BeautifulSoup\n",
    "import pandas as pd\n",
    "import numpy as np\n",
    "\n",
    "from time import sleep\n",
    "from random import randint"
   ]
  },
  {
   "cell_type": "code",
   "execution_count": 3,
   "metadata": {},
   "outputs": [],
   "source": [
    "pages = np.arange(1, 4, 1)\n",
    "\n",
    "col1 = ['Revenue', 'Productivity and Business Processes', 'Intelligent Cloud', 'More Personal Computing', 'Total', 'Operating Income', 'Productivity and Business Processes', 'Intelligent Cloud', 'More Personal Computing', 'Total']\n",
    "\n",
    "col2 = []\n",
    "\n",
    "for page in pages:\n",
    "\n",
    "    url = 'https://www.microsoft.com/en-us/Investor/earnings/FY-2021-Q' + str(page) + '/segment-revenues'\n",
    "\n",
    "    results = requests.get(url)\n",
    "\n",
    "    soup = BeautifulSoup(results.text, \"html.parser\")\n",
    "    \n",
    "    table = soup.find('table', attrs={'itemtype' : \"https://schema.org/ItemList\"})\n",
    "    tablebody = table.find('tbody')\n",
    "\n",
    "    rows = tablebody.find_all('tr')\n",
    "    \n",
    "    sleep(randint(2,10))\n",
    "    \n",
    "    for row in rows:  \n",
    "        values = row.find('span', attrs={'itemprop': 'price'}).text if row.find('span', attrs={'itemprop': 'price'}) else ''\n",
    "        col2.append(values) "
   ]
  },
  {
   "cell_type": "code",
   "execution_count": 217,
   "metadata": {},
   "outputs": [
    {
     "name": "stdout",
     "output_type": "stream",
     "text": [
      "['', '13,353', '14,601', '15,122', '43,076', '', '6,181', '6,492', '5,224', '17,897']\n"
     ]
    }
   ],
   "source": [
    "print(col2[10:20])"
   ]
  },
  {
   "cell_type": "code",
   "execution_count": 1,
   "metadata": {},
   "outputs": [
    {
     "ename": "NameError",
     "evalue": "name 'pd' is not defined",
     "output_type": "error",
     "traceback": [
      "\u001b[0;31m---------------------------------------------------------------------------\u001b[0m",
      "\u001b[0;31mNameError\u001b[0m                                 Traceback (most recent call last)",
      "\u001b[0;32m<ipython-input-1-3ef0c2b36e26>\u001b[0m in \u001b[0;36m<module>\u001b[0;34m\u001b[0m\n\u001b[0;32m----> 1\u001b[0;31m df = pd.DataFrame({\n\u001b[0m\u001b[1;32m      2\u001b[0m     \u001b[0;34m'Revenue'\u001b[0m\u001b[0;34m:\u001b[0m \u001b[0mcol1\u001b[0m\u001b[0;34m,\u001b[0m\u001b[0;34m\u001b[0m\u001b[0;34m\u001b[0m\u001b[0m\n\u001b[1;32m      3\u001b[0m     \u001b[0;34m'FY21Q1'\u001b[0m\u001b[0;34m:\u001b[0m \u001b[0mcol2\u001b[0m\u001b[0;34m[\u001b[0m\u001b[0;36m0\u001b[0m\u001b[0;34m:\u001b[0m\u001b[0;36m10\u001b[0m\u001b[0;34m]\u001b[0m\u001b[0;34m,\u001b[0m\u001b[0;34m\u001b[0m\u001b[0;34m\u001b[0m\u001b[0m\n\u001b[1;32m      4\u001b[0m     \u001b[0;34m'FY21Q2'\u001b[0m\u001b[0;34m:\u001b[0m \u001b[0mcol2\u001b[0m\u001b[0;34m[\u001b[0m\u001b[0;36m10\u001b[0m\u001b[0;34m:\u001b[0m\u001b[0;36m20\u001b[0m\u001b[0;34m]\u001b[0m\u001b[0;34m,\u001b[0m\u001b[0;34m\u001b[0m\u001b[0;34m\u001b[0m\u001b[0m\n\u001b[1;32m      5\u001b[0m     \u001b[0;34m'FY21Q3'\u001b[0m\u001b[0;34m:\u001b[0m \u001b[0mcol2\u001b[0m\u001b[0;34m[\u001b[0m\u001b[0;36m20\u001b[0m\u001b[0;34m:\u001b[0m\u001b[0;36m30\u001b[0m\u001b[0;34m]\u001b[0m\u001b[0;34m,\u001b[0m\u001b[0;34m\u001b[0m\u001b[0;34m\u001b[0m\u001b[0m\n",
      "\u001b[0;31mNameError\u001b[0m: name 'pd' is not defined"
     ]
    }
   ],
   "source": [
    "df = pd.DataFrame({\n",
    "    'Revenue': col1,\n",
    "    'FY21Q1': col2[0:10],\n",
    "    'FY21Q2': col2[10:20],\n",
    "    'FY21Q3': col2[20:30],\n",
    "})\n",
    "\n",
    "df"
   ]
  },
  {
   "cell_type": "code",
   "execution_count": 214,
   "metadata": {},
   "outputs": [
    {
     "name": "stdout",
     "output_type": "stream",
     "text": [
      "Revenue    object\n",
      "FY21Q1     object\n",
      "FY21Q2     object\n",
      "FY21Q3     object\n",
      "dtype: object\n"
     ]
    }
   ],
   "source": [
    "print(df.dtypes)"
   ]
  },
  {
   "cell_type": "code",
   "execution_count": 226,
   "metadata": {},
   "outputs": [],
   "source": [
    "df.to_csv('test.csv')"
   ]
  }
 ],
 "metadata": {
  "kernelspec": {
   "display_name": "Python 3",
   "language": "python",
   "name": "python3"
  },
  "language_info": {
   "codemirror_mode": {
    "name": "ipython",
    "version": 3
   },
   "file_extension": ".py",
   "mimetype": "text/x-python",
   "name": "python",
   "nbconvert_exporter": "python",
   "pygments_lexer": "ipython3",
   "version": "3.8.5"
  }
 },
 "nbformat": 4,
 "nbformat_minor": 4
}
