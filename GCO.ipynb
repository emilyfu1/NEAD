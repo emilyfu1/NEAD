{
 "cells": [
  {
   "cell_type": "code",
   "execution_count": 2,
   "metadata": {},
   "outputs": [],
   "source": [
    "# the Python Requests package will allow us to send HTTP requests to get HTML files\n",
    "import requests\n",
    "\n",
    "# the GET method indicates that you’re trying to get or retrieve data from a specified resource. \n",
    "# to make a GET request, invoke requests.get()\n",
    "from requests import get\n",
    "\n",
    "# Beautiful Soup is a Python library for pulling data out of HTML and XML files\n",
    "from bs4 import BeautifulSoup\n",
    "\n",
    "# pandas is a Python data analysis library\n",
    "import pandas as pd\n",
    "\n",
    "# NumPy is a Python library used for working with large, multi-dimensional arrays and matrices\n",
    "import numpy as np"
   ]
  },
  {
   "cell_type": "code",
   "execution_count": 20,
   "metadata": {},
   "outputs": [
    {
     "name": "stdout",
     "output_type": "stream",
     "text": [
      "1 LB MIX AND MATCH\n",
      "https://getcannabisonline.io/product/1-lb-mix-and-match/\n",
      "1 OUNCE MIX AND MATCH\n",
      "https://getcannabisonline.io/product/1-ounce-mix-and-match/\n",
      "1/2 LB MIX AND MATCH\n",
      "https://getcannabisonline.io/product/1-2-lb-mix-and-match/\n",
      "1/4 LB MIX AND MATCH\n",
      "https://getcannabisonline.io/product/1-4-lb-mix-and-match/\n",
      "Alaskan Thunder Fuck (AAA)\n",
      "https://getcannabisonline.io/product/alaskan-thunder-fuck-strain/\n",
      "Alien Rock Candy (AAA)\n",
      "https://getcannabisonline.io/product/alien-rock-candy/\n",
      "Amnesia (AA)\n",
      "https://getcannabisonline.io/product/amnesia/\n",
      "Best Friend OG (AA+)\n",
      "https://getcannabisonline.io/product/best-friend-og-aa/\n",
      "Blue Dream (AA+)\n",
      "https://getcannabisonline.io/product/blue-dream-strain/\n",
      "Bruce Banner (AAA+)\n",
      "https://getcannabisonline.io/product/bruce-banner-strain/\n",
      "Candyland (AA+)\n",
      "https://getcannabisonline.io/product/candyland/\n",
      "Cinderella 99 (AA+)\n",
      "https://getcannabisonline.io/product/cinderella-99/\n",
      "Citrique (AAAA)\n",
      "https://getcannabisonline.io/product/citrique-aaaa/\n",
      "Exclusive Batch Joints – 0.5 Grams\n",
      "https://getcannabisonline.io/product/exclusive-batch-joints-0-5-gram/\n",
      "Gorilla Bomb (AA+)\n",
      "https://getcannabisonline.io/product/gorilla-bomb-strain/\n",
      "Jack Herer (AA+)\n",
      "https://getcannabisonline.io/product/jack-herer/\n",
      "King Tut (AA+)\n",
      "https://getcannabisonline.io/product/king-tut/\n",
      "Lamb’s Breath (AA)\n",
      "https://getcannabisonline.io/product/lambs-breath/\n"
     ]
    }
   ],
   "source": [
    "# specify a URL\n",
    "url = 'https://getcannabisonline.io/product-category/'\n",
    "\n",
    "keys = ['concentrates/hash/', 'cannabis/sativa/']\n",
    "\n",
    "for key in keys:\n",
    "    # method we use to grab the contents of the URL\n",
    "    results = requests.get(url + key)\n",
    "\n",
    "    # soup is the variable we create to assign the method BeatifulSoup\n",
    "    # The BeautifulSoup library specifies a desired format of results using the HTML parser\n",
    "    # This allows Python to read the components of the page rather than treating it as one long string\n",
    "    soup = BeautifulSoup(results.content, \"html.parser\")\n",
    "\n",
    "    products = soup.find_all('div', class_=\"product-small box\")\n",
    "\n",
    "    for product in products:\n",
    "        product_link = product.find('a', class_='woocommerce-LoopProduct-link woocommerce-loop-product__link')\n",
    "        name = product_link.text\n",
    "        product_page = product_link.get('href')\n",
    "        \n",
    "        product_page_results = requests.get(product_page)\n",
    "        product_page_soup = BeautifulSoup(product_page_results.content, \"html.parser\")\n",
    "        \n",
    "        print(name)\n",
    "        print(product_page)"
   ]
  },
  {
   "cell_type": "code",
   "execution_count": null,
   "metadata": {},
   "outputs": [],
   "source": []
  },
  {
   "cell_type": "code",
   "execution_count": null,
   "metadata": {},
   "outputs": [],
   "source": []
  }
 ],
 "metadata": {
  "kernelspec": {
   "display_name": "Python 3",
   "language": "python",
   "name": "python3"
  },
  "language_info": {
   "codemirror_mode": {
    "name": "ipython",
    "version": 3
   },
   "file_extension": ".py",
   "mimetype": "text/x-python",
   "name": "python",
   "nbconvert_exporter": "python",
   "pygments_lexer": "ipython3",
   "version": "3.8.5"
  }
 },
 "nbformat": 4,
 "nbformat_minor": 4
}
