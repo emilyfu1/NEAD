{
 "cells": [
  {
   "cell_type": "code",
   "execution_count": 33,
   "metadata": {},
   "outputs": [
    {
     "name": "stdout",
     "output_type": "stream",
     "text": [
      "java version \"1.8.0_291\"\r\n",
      "Java(TM) SE Runtime Environment (build 1.8.0_291-b10)\r\n",
      "Java HotSpot(TM) 64-Bit Server VM (build 25.291-b10, mixed mode)\r\n"
     ]
    }
   ],
   "source": [
    "!java -version"
   ]
  },
  {
   "cell_type": "code",
   "execution_count": 34,
   "metadata": {},
   "outputs": [
    {
     "name": "stdout",
     "output_type": "stream",
     "text": [
      "Collecting package metadata (current_repodata.json): done\n",
      "Solving environment: done\n",
      "\n",
      "# All requested packages already installed.\n",
      "\n",
      "\n",
      "Note: you may need to restart the kernel to use updated packages.\n"
     ]
    }
   ],
   "source": [
    "conda install -c anaconda pywget"
   ]
  },
  {
   "cell_type": "code",
   "execution_count": 35,
   "metadata": {},
   "outputs": [],
   "source": [
    "from PyPDF2 import PdfFileReader\n",
    "import requests\n",
    "from requests import get\n",
    "import io\n",
    "import os\n",
    "from bs4 import BeautifulSoup\n",
    "import numpy as np\n",
    "import pandas as pd\n",
    "\n",
    "import wget"
   ]
  },
  {
   "cell_type": "code",
   "execution_count": 36,
   "metadata": {},
   "outputs": [
    {
     "name": "stdout",
     "output_type": "stream",
     "text": [
      "https://www.sony.com/en/SonyInfo/IR/library/presen/er/pdf/18q1_sony.pdf\n",
      "https://www.sony.com/en/SonyInfo/IR/library/presen/er/pdf/18q2_sony.pdf\n",
      "https://www.sony.com/en/SonyInfo/IR/library/presen/er/pdf/18q3_sony.pdf\n",
      "https://www.sony.com/en/SonyInfo/IR/library/presen/er/pdf/18q4_sony.pdf\n",
      "https://www.sony.com/en/SonyInfo/IR/library/presen/er/pdf/19q1_sony.pdf\n",
      "https://www.sony.com/en/SonyInfo/IR/library/presen/er/pdf/19q2_sony.pdf\n",
      "https://www.sony.com/en/SonyInfo/IR/library/presen/er/pdf/19q3_sony.pdf\n",
      "https://www.sony.com/en/SonyInfo/IR/library/presen/er/pdf/19q4_sony.pdf\n",
      "https://www.sony.com/en/SonyInfo/IR/library/presen/er/pdf/20q1_sony.pdf\n",
      "https://www.sony.com/en/SonyInfo/IR/library/presen/er/pdf/20q2_sony.pdf\n",
      "https://www.sony.com/en/SonyInfo/IR/library/presen/er/pdf/20q3_sony.pdf\n",
      "https://www.sony.com/en/SonyInfo/IR/library/presen/er/pdf/20q4_sony.pdf\n"
     ]
    }
   ],
   "source": [
    "# url = requests.get('https://www.sony.com/en/SonyInfo/IR/library/presen/er/archive.html')\n",
    "\n",
    "# soup = BeautifulSoup(url.text,\"lxml\")\n",
    "\n",
    "# for a in soup.find_all('a', href = True):\n",
    "#     mystr = a['href']\n",
    "#     if(mystr[-4:]=='.pdf'):\n",
    "#         print(mystr)\n",
    "#         open('/Users/em/Downloads/pythonpractice/NEAD/' + 'url', 'wb').write(url.content)\n",
    "    \n",
    "\n",
    "years = np.arange(18, 21, 1)\n",
    "quarters = np.arange(1, 5, 1)\n",
    "\n",
    "for year in years:\n",
    "    for quarter in quarters:\n",
    "        \n",
    "        url = 'https://www.sony.com/en/SonyInfo/IR/library/presen/er/pdf/' + str(year) + 'q' + str(quarter) + '_sony.pdf'\n",
    "        \n",
    "        print(url)\n",
    "        \n",
    "        wget.download(url, '/Users/em/Downloads/pythonpractice/NEAD/') \n",
    "        \n",
    "        # try: \n",
    "            \n",
    "        # except:\n",
    "        #     print(\" \\n \\n Unable to Download File \\n\")"
   ]
  },
  {
   "cell_type": "code",
   "execution_count": null,
   "metadata": {},
   "outputs": [],
   "source": []
  },
  {
   "cell_type": "code",
   "execution_count": null,
   "metadata": {},
   "outputs": [],
   "source": []
  },
  {
   "cell_type": "code",
   "execution_count": null,
   "metadata": {},
   "outputs": [],
   "source": []
  }
 ],
 "metadata": {
  "kernelspec": {
   "display_name": "Python 3",
   "language": "python",
   "name": "python3"
  },
  "language_info": {
   "codemirror_mode": {
    "name": "ipython",
    "version": 3
   },
   "file_extension": ".py",
   "mimetype": "text/x-python",
   "name": "python",
   "nbconvert_exporter": "python",
   "pygments_lexer": "ipython3",
   "version": "3.8.5"
  }
 },
 "nbformat": 4,
 "nbformat_minor": 4
}
