{
 "cells": [
  {
   "cell_type": "markdown",
   "metadata": {},
   "source": [
    "This is a simple script that downloads Sony Investor Relations PDF financial report files from a specified range of dates into the working directory. The main webpage can be found at https://www.sony.com/en/SonyInfo/IR/library/presen/er/archive.html."
   ]
  },
  {
   "cell_type": "markdown",
   "metadata": {},
   "source": [
    "The following block loads all necessary packages and libraries required by the script. The block needs to be run every time the code is used to scrape data. If required packages are not installed, running the code will throw an error. Refer to Statistics Canada's instructions for installing and requesting packages on your Net B VDI. If Python is not yet installed on your system, you will need to submit an SRM for access."
   ]
  },
  {
   "cell_type": "code",
   "execution_count": 1,
   "metadata": {},
   "outputs": [],
   "source": [
    "# This module provides a portable way of using operating system dependent functionality. \n",
    "import os\n",
    "\n",
    "# NumPy is a Python library used for working with large, multi-dimensional arrays and matrices\n",
    "import numpy as np\n",
    "\n",
    "# wget is a module used to download files\n",
    "import wget\n",
    "\n",
    "# PDFMiner is a text extraction tool for PDF documents that obtains the exact location of text as well as other layout\n",
    "# information (fonts, etc.), performs automatic layout analysis, and can convert PDF into other formats (HTML/XML)\n",
    "import pdfminer"
   ]
  },
  {
   "cell_type": "markdown",
   "metadata": {},
   "source": [
    "The next block of code, if run, will download all PDF files from FYQ1 2018 to FYQ4 2020. Then, it converts the PDF files to HTML format. This code will duplicate files if it is run twice. This code will duplicate files if it is run twice. It does not need to be run again unless you wish to add several quarters of financial information at once, in which case you alter the range of years from which data will be required. Although HTML conversions are difficult to scrape, the HTML files may be used in the future. Otherwise, the block of code corresponding to HTML conversion can be commented out or removed. This code will duplicate files if it is run twice. "
   ]
  },
  {
   "cell_type": "code",
   "execution_count": 3,
   "metadata": {},
   "outputs": [
    {
     "name": "stdout",
     "output_type": "stream",
     "text": [
      "https://www.sony.com/en/SonyInfo/IR/library/presen/er/pdf/18q1_sony.pdf\n",
      "18q1_sony.pdf\n",
      "https://www.sony.com/en/SonyInfo/IR/library/presen/er/pdf/18q2_sony.pdf\n",
      "18q2_sony.pdf\n",
      "https://www.sony.com/en/SonyInfo/IR/library/presen/er/pdf/18q3_sony.pdf\n",
      "18q3_sony.pdf\n",
      "https://www.sony.com/en/SonyInfo/IR/library/presen/er/pdf/18q4_sony.pdf\n",
      "18q4_sony.pdf\n",
      "https://www.sony.com/en/SonyInfo/IR/library/presen/er/pdf/19q1_sony.pdf\n",
      "19q1_sony.pdf\n",
      "https://www.sony.com/en/SonyInfo/IR/library/presen/er/pdf/19q2_sony.pdf\n",
      "19q2_sony.pdf\n",
      "https://www.sony.com/en/SonyInfo/IR/library/presen/er/pdf/19q3_sony.pdf\n",
      "19q3_sony.pdf\n",
      "https://www.sony.com/en/SonyInfo/IR/library/presen/er/pdf/19q4_sony.pdf\n",
      "19q4_sony.pdf\n",
      "https://www.sony.com/en/SonyInfo/IR/library/presen/er/pdf/20q1_sony.pdf\n",
      "20q1_sony.pdf\n",
      "https://www.sony.com/en/SonyInfo/IR/library/presen/er/pdf/20q2_sony.pdf\n",
      "20q2_sony.pdf\n",
      "https://www.sony.com/en/SonyInfo/IR/library/presen/er/pdf/20q3_sony.pdf\n",
      "20q3_sony.pdf\n",
      "https://www.sony.com/en/SonyInfo/IR/library/presen/er/pdf/20q4_sony.pdf\n",
      "20q4_sony.pdf\n",
      "https://www.sony.com/en/SonyInfo/IR/library/presen/er/pdf/21q1_sony.pdf\n",
      "21q1_sony.pdf\n",
      "https://www.sony.com/en/SonyInfo/IR/library/presen/er/pdf/21q2_sony.pdf\n",
      "21q2_sony.pdf\n",
      "https://www.sony.com/en/SonyInfo/IR/library/presen/er/pdf/21q3_sony.pdf\n",
      "21q3_sony.pdf\n",
      "https://www.sony.com/en/SonyInfo/IR/library/presen/er/pdf/21q4_sony.pdf\n",
      "21q4_sony.pdf\n",
      "Page not found\n",
      "https://www.sony.com/en/SonyInfo/IR/library/presen/er/pdf/22q1_sony.pdf\n",
      "22q1_sony.pdf\n",
      "Page not found\n",
      "https://www.sony.com/en/SonyInfo/IR/library/presen/er/pdf/22q2_sony.pdf\n",
      "22q2_sony.pdf\n",
      "Page not found\n",
      "https://www.sony.com/en/SonyInfo/IR/library/presen/er/pdf/22q3_sony.pdf\n",
      "22q3_sony.pdf\n",
      "Page not found\n",
      "https://www.sony.com/en/SonyInfo/IR/library/presen/er/pdf/22q4_sony.pdf\n",
      "22q4_sony.pdf\n",
      "Page not found\n"
     ]
    }
   ],
   "source": [
    "# using the NumPy arange() function, we can create vectors that return evenly spaced values within a given interval.\n",
    "# years is a vector containing the range of years from which data will be scraped (in this case, 2018 to 2022) and should be altered for the desired range\n",
    "# quarters is the vector [1 2 3 4]\n",
    "years = np.arange(18, 23, 1)\n",
    "quarters = np.arange(1, 5, 1)\n",
    "\n",
    "# iterate through each quarter of each year\n",
    "for year in years:\n",
    "    for quarter in quarters:\n",
    "        \n",
    "        # specify the URL for the specific reference period\n",
    "        url = 'https://www.sony.com/en/SonyInfo/IR/library/presen/er/pdf/' + str(year) + 'q' + str(quarter) + '_sony.pdf'\n",
    "        \n",
    "        # speficy the pathname that the downloaded file will take\n",
    "        # the path should be changed to place files into the desired folder\n",
    "        path = str(year) + 'q' + str(quarter) + '_sony.pdf'\n",
    "        \n",
    "        print(url)\n",
    "        \n",
    "        print(path)\n",
    "        \n",
    "        try:\n",
    "            # downloads the file available at the URL into the specified directory in the second argument\n",
    "            # the path should be changed to place files into the desired folder\n",
    "            wget.download(url) \n",
    "            \n",
    "            # the file pdf2txt.py included in PDFMiner converts PDF files to HTML\n",
    "            # currently, each HTML file is named 'FYXXQX', but this can be changed by altering the command string\n",
    "            command = 'pdf2txt.py -o FY' + str(year) + 'Q' + str(quarter) + '.html -t html ' + path\n",
    "            \n",
    "            # run the command through the system terminal/command prompt\n",
    "            # HTML files will not be duplicated when the file name already exists in the directory\n",
    "            os.system(command) \n",
    "            \n",
    "        except:\n",
    "            print('Page not found')\n"
   ]
  },
  {
   "cell_type": "markdown",
   "metadata": {},
   "source": [
    "For future periods, you may download a financial report from a single quarter and can be used to download the most recent available file. Then, the block converts the file to HTML. Running this block will download the file located at the URL for the specific year and quarter. Similarly, you can convert a single file to HTML with the following block of code. This is simply the previous HTML conversion method without a nested loop to accomodate for multiple files."
   ]
  },
  {
   "cell_type": "code",
   "execution_count": 4,
   "metadata": {},
   "outputs": [
    {
     "name": "stdout",
     "output_type": "stream",
     "text": [
      "https://www.sony.com/en/SonyInfo/IR/library/presen/er/pdf/22q4_sony.pdf\n",
      "22q4_sony.pdf\n",
      "Page not found\n"
     ]
    }
   ],
   "source": [
    "# year controls the reference year that you wish to scrape\n",
    "# quarter controls the reference quarter that you wish to scrape\n",
    "year = 22\n",
    "quarter = 4\n",
    "\n",
    "# specify the URL for the specific reference period\n",
    "url = 'https://www.sony.com/en/SonyInfo/IR/library/presen/er/pdf/' + str(year) + 'q' + str(quarter) + '_sony.pdf'\n",
    "\n",
    "# speficy the pathname that the downloaded file will take\n",
    "# the path should be changed to place files into the desired folder\n",
    "path = str(year) + 'q' + str(quarter) + '_sony.pdf'\n",
    "\n",
    "print(url)\n",
    "\n",
    "print(path)\n",
    "\n",
    "try:\n",
    "    # downloads the file available at the URL into the specified directory in the second argument\n",
    "    # the path should be changed to place files into the desired folder\n",
    "    wget.download(url) \n",
    "    \n",
    "    # the file pdf2txt.py included in PDFMiner converts PDF files to HTML\n",
    "    # currently, each HTML file is named 'FYXXQX', but this can be changed by altering the command string\n",
    "    command = 'pdf2txt.py -o FY' + str(year) + 'Q' + str(quarter) + '.html -t html ' + path\n",
    "    \n",
    "    # run the command through the system terminal/command prompt\n",
    "    # HTML files will not be duplicated when the file name already exists in the directory\n",
    "    os.system(command) \n",
    "\n",
    "except:\n",
    "    print('Page not found')\n"
   ]
  },
  {
   "cell_type": "code",
   "execution_count": 17,
   "metadata": {},
   "outputs": [],
   "source": []
  },
  {
   "cell_type": "code",
   "execution_count": 3,
   "metadata": {},
   "outputs": [],
   "source": []
  },
  {
   "cell_type": "code",
   "execution_count": 19,
   "metadata": {},
   "outputs": [],
   "source": []
  },
  {
   "cell_type": "code",
   "execution_count": null,
   "metadata": {},
   "outputs": [],
   "source": []
  },
  {
   "cell_type": "code",
   "execution_count": null,
   "metadata": {},
   "outputs": [],
   "source": []
  },
  {
   "cell_type": "code",
   "execution_count": null,
   "metadata": {},
   "outputs": [],
   "source": []
  }
 ],
 "metadata": {
  "kernelspec": {
   "display_name": "Python 3",
   "language": "python",
   "name": "python3"
  },
  "language_info": {
   "codemirror_mode": {
    "name": "ipython",
    "version": 3
   },
   "file_extension": ".py",
   "mimetype": "text/x-python",
   "name": "python",
   "nbconvert_exporter": "python",
   "pygments_lexer": "ipython3",
   "version": "3.8.5"
  }
 },
 "nbformat": 4,
 "nbformat_minor": 4
}
