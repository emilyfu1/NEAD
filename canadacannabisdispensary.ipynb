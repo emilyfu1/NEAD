{
 "cells": [
  {
   "cell_type": "code",
   "execution_count": null,
   "metadata": {},
   "outputs": [],
   "source": [
    "# the Python Requests package will allow us to send HTTP requests to get HTML files\n",
    "import requests\n",
    "\n",
    "# the GET method indicates that you’re trying to get or retrieve data from a specified resource. \n",
    "# to make a GET request, invoke requests.get()\n",
    "from requests import get\n",
    "\n",
    "# Beautiful Soup is a Python library for pulling data out of HTML and XML files\n",
    "from bs4 import BeautifulSoup\n",
    "\n",
    "# pandas is a Python data analysis library\n",
    "import pandas as pd\n",
    "\n",
    "# NumPy is a Python library used for working with large, multi-dimensional arrays and matrices\n",
    "import numpy as np\n",
    "\n",
    "from datetime import datetime\n",
    "\n",
    "import re\n",
    "\n",
    "import os\n",
    "\n",
    "import os.path as path"
   ]
  },
  {
   "cell_type": "code",
   "execution_count": null,
   "metadata": {},
   "outputs": [],
   "source": [
    "if path.exists('canadacannabisdispensary.csv'):\n",
    "   existing_data = pd.read_csv('canadacannabisdispensary.csv')\n",
    "else:\n",
    "   columns = ['date', 'product','price', 'quantity']\n",
    "   existing_data = pd.DataFrame(columns = columns)"
   ]
  },
  {
   "cell_type": "code",
   "execution_count": null,
   "metadata": {},
   "outputs": [],
   "source": [
    "# canadacannabisdispensary has been taken down as of March 2022, and is currently not accessible by this URL\n",
    "# this block of code will throw a connection error unless the website returns\n",
    "url = 'https://www.canadacannabisdispensary.co/product-category/aaa/'\n",
    "\n",
    "all_names = []\n",
    "\n",
    "all_prices = []\n",
    "\n",
    "all_quantities = []\n",
    "\n",
    "date = []\n",
    "\n",
    "results = requests.get(url)\n",
    "\n",
    "soup = BeautifulSoup(results.content, \"html.parser\")\n",
    "\n",
    "products = soup.find_all('a', class_=\"woocommerce-LoopProduct-link woocommerce-loop-product__link\")\n",
    "\n",
    "for product in products:  \n",
    "    name = product.find('h2', class_='woocommerce-loop-product__title').text\n",
    "    product_page = product.get('href')\n",
    "    \n",
    "    product_page_results = requests.get(product_page)\n",
    "    product_page_soup = BeautifulSoup(product_page_results.content, \"html.parser\")\n",
    "        \n",
    "    price = product_page_soup.find('span', class_='woocommerce-Price-amount amount').text\n",
    "    quantities = product_page_soup.find_all('option')\n",
    "    \n",
    "    stripped_quantities = [] \n",
    "    \n",
    "    if quantities:\n",
    "        for quantity in quantities:\n",
    "            # find all number quantity options listed on product page\n",
    "            strip = re.findall(r\"[-+]?(?:\\d*\\.\\d+|\\d+)\", quantity.text)\n",
    "            if strip:\n",
    "                stripped_quantities.append(float(strip[0]))\n",
    "    \n",
    "    print(stripped_quantities)\n",
    "    \n",
    "    # if stripped_quantities is non-empty\n",
    "    if stripped_quantities:\n",
    "        all_quantities.append(min(stripped_quantities))\n",
    "    else:\n",
    "        all_quantities.append('No quantity options')\n",
    "\n",
    "    current_month = datetime.now().month\n",
    "    current_year = datetime.now().year\n",
    "\n",
    "    all_names.append(name)\n",
    "    all_prices.append(price)\n",
    "    date.append(str(current_month) + '/' + str(current_year))"
   ]
  },
  {
   "cell_type": "code",
   "execution_count": null,
   "metadata": {},
   "outputs": [],
   "source": [
    "print(all_names)\n",
    "print(all_prices)\n",
    "print(all_quantities)"
   ]
  },
  {
   "cell_type": "code",
   "execution_count": null,
   "metadata": {},
   "outputs": [],
   "source": [
    "new_data = pd.DataFrame(\n",
    "    {'date': date,\n",
    "     'product': all_names,\n",
    "     'price': all_prices,\n",
    "     'quantity': all_quantities\n",
    "    })"
   ]
  },
  {
   "cell_type": "code",
   "execution_count": null,
   "metadata": {},
   "outputs": [],
   "source": [
    "new_data"
   ]
  },
  {
   "cell_type": "code",
   "execution_count": null,
   "metadata": {},
   "outputs": [],
   "source": [
    "joined_data = pd.concat([existing_data, new_data])"
   ]
  },
  {
   "cell_type": "code",
   "execution_count": null,
   "metadata": {},
   "outputs": [],
   "source": [
    "output_path = 'canadacannabisdispensary.csv'\n",
    "\n",
    "df.to_csv(output_path, index = False)"
   ]
  },
  {
   "cell_type": "code",
   "execution_count": null,
   "metadata": {},
   "outputs": [],
   "source": []
  }
 ],
 "metadata": {
  "kernelspec": {
   "display_name": "Python 3",
   "language": "python",
   "name": "python3"
  },
  "language_info": {
   "codemirror_mode": {
    "name": "ipython",
    "version": 3
   },
   "file_extension": ".py",
   "mimetype": "text/x-python",
   "name": "python",
   "nbconvert_exporter": "python",
   "pygments_lexer": "ipython3",
   "version": "3.8.5"
  }
 },
 "nbformat": 4,
 "nbformat_minor": 4
}
