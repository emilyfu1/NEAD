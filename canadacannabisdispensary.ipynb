{
 "cells": [
  {
   "cell_type": "code",
   "execution_count": null,
   "metadata": {},
   "outputs": [],
   "source": [
    "# the Python Requests package will allow us to send HTTP requests to get HTML files\n",
    "import requests\n",
    "\n",
    "# the GET method indicates that you’re trying to get or retrieve data from a specified resource. \n",
    "# to make a GET request, invoke requests.get()\n",
    "from requests import get\n",
    "\n",
    "# Beautiful Soup is a Python library for pulling data out of HTML and XML files\n",
    "from bs4 import BeautifulSoup\n",
    "\n",
    "# pandas is a Python data analysis library\n",
    "import pandas as pd\n",
    "\n",
    "# NumPy is a Python library used for working with large, multi-dimensional arrays and matrices\n",
    "import numpy as np\n",
    "\n",
    "# Datetime is a module that supplies classes for manipulating dates and times\n",
    "from datetime import datetime\n",
    "\n",
    "# The os module provides a portable way of using operating system dependent functionality\n",
    "import os\n",
    "\n",
    "# re can be used to work with Regular Expressions\n",
    "import re\n",
    "\n",
    "# The os.path module implements some useful functions on pathnames\n",
    "import os.path as path"
   ]
  },
  {
   "cell_type": "code",
   "execution_count": null,
   "metadata": {},
   "outputs": [],
   "source": [
    "# look in working directory for CSV file where existing data is stored and read as dataframe\n",
    "# if this file does not exist, create empty dataframe with columns corresponding to required information\n",
    "if path.exists('canadacannabisdispensary.csv'):\n",
    "   existing_data = pd.read_csv('canadacannabisdispensary.csv')\n",
    "else:\n",
    "   columns = ['date', 'product','price', 'quantity']\n",
    "   existing_data = pd.DataFrame(columns = columns)"
   ]
  },
  {
   "cell_type": "code",
   "execution_count": null,
   "metadata": {},
   "outputs": [],
   "source": [
    "existing_data"
   ]
  },
  {
   "cell_type": "markdown",
   "metadata": {},
   "source": [
    "As of April 2022, The Canada Cannabis Dispensary website has been taken down since March 2022, and is currently not accessible by this URL. This block of code will throw a connection error unless the website returns, but should be used if the website returns. If a new website returns under a different URL, the URL should be updated."
   ]
  },
  {
   "cell_type": "code",
   "execution_count": null,
   "metadata": {},
   "outputs": [],
   "source": [
    "# the URL we want to obtain data from\n",
    "url = 'https://www.canadacannabisdispensary.co/product-category/aaa/'\n",
    "\n",
    "# store scraped data in lists\n",
    "all_names = []\n",
    "all_prices = []\n",
    "all_quantities = []\n",
    "date = []\n",
    "\n",
    "results = requests.get(url)\n",
    "\n",
    "# parse web content into Python-readable format\n",
    "soup = BeautifulSoup(results.content, \"html.parser\")\n",
    "\n",
    "# from inspecting the HTML, information we need is stored here for each product\n",
    "# the find_all() function will find every instance of matching tags and filters from the soup\n",
    "products = soup.find_all('a', class_=\"woocommerce-LoopProduct-link woocommerce-loop-product__link\")\n",
    "\n",
    "# iterate through each product and obtain data from each\n",
    "for product in products:  \n",
    "    # obtain where the name of each product is stored\n",
    "    name = product.find('h2', class_='woocommerce-loop-product__title').text\n",
    "    \n",
    "    # obtain where the URL of each individual product page is stored\n",
    "    product_page = product.get('href')\n",
    "    \n",
    "    # obtain HTML for individual product pages\n",
    "    # individual product pages contain price and quantity information\n",
    "    product_page_results = requests.get(product_page)\n",
    "    product_page_soup = BeautifulSoup(product_page_results.content, \"html.parser\")\n",
    "    \n",
    "    # obtain where the price of each product is stored\n",
    "    price = product_page_soup.find('span', class_='woocommerce-Price-amount amount').text\n",
    "    \n",
    "    # obtaining the correct corresponding quantity for a given price requires sorting through all quantity options\n",
    "    # this is necessary for calculating a price per quantity for each product if desired\n",
    "    quantities = product_page_soup.find_all('option')\n",
    "    \n",
    "    # list to store all quantity options available for a given product\n",
    "    stripped_quantities = [] \n",
    "    \n",
    "    # if quantity options exist, sort through each option and add to list of options\n",
    "    if quantities:\n",
    "        for quantity in quantities:\n",
    "            # find all number quantity options listed on product page by removing non-numeric characters from each\n",
    "            strip = re.findall(r\"[-+]?(?:\\d*\\.\\d+|\\d+)\", quantity.text)\n",
    "            if strip:\n",
    "                stripped_quantities.append(float(strip[0]))\n",
    "    \n",
    "    print(stripped_quantities)\n",
    "    \n",
    "    # if stripped_quantities is non-empty, add the information to the quantity column\n",
    "    if stripped_quantities:\n",
    "        # the price we need corresponds to the smallest quantity available for sale\n",
    "        all_quantities.append(min(stripped_quantities))\n",
    "    else:\n",
    "        all_quantities.append('No quantity options')\n",
    "\n",
    "    # obtain the date the script is being run\n",
    "    current_date = datetime.today().strftime('%Y-%m-%d')\n",
    "\n",
    "    all_names.append(name)\n",
    "    all_prices.append(price)\n",
    "    date.append(current_date)"
   ]
  },
  {
   "cell_type": "code",
   "execution_count": null,
   "metadata": {},
   "outputs": [],
   "source": [
    "print(all_names)\n",
    "print(all_prices)\n",
    "print(all_quantities)\n",
    "print(date)"
   ]
  },
  {
   "cell_type": "code",
   "execution_count": null,
   "metadata": {},
   "outputs": [],
   "source": [
    "# create dataframe using new data\n",
    "new_data = pd.DataFrame(\n",
    "    {'date': date,\n",
    "     'product': all_names,\n",
    "     'price': all_prices,\n",
    "     'quantity': all_quantities\n",
    "    })"
   ]
  },
  {
   "cell_type": "code",
   "execution_count": null,
   "metadata": {},
   "outputs": [],
   "source": [
    "new_data"
   ]
  },
  {
   "cell_type": "code",
   "execution_count": null,
   "metadata": {},
   "outputs": [],
   "source": [
    "# join original and new data by column\n",
    "joined_data = pd.concat([existing_data, new_data])"
   ]
  },
  {
   "cell_type": "code",
   "execution_count": null,
   "metadata": {},
   "outputs": [],
   "source": [
    "joined_data"
   ]
  },
  {
   "cell_type": "code",
   "execution_count": null,
   "metadata": {},
   "outputs": [],
   "source": [
    "# ensure duplicates are removed in case data is added twice\n",
    "final_data = joined_data.drop_duplicates(subset=['date', 'product'], keep = 'last', inplace=False)"
   ]
  },
  {
   "cell_type": "code",
   "execution_count": null,
   "metadata": {},
   "outputs": [],
   "source": [
    "final_data"
   ]
  },
  {
   "cell_type": "code",
   "execution_count": null,
   "metadata": {},
   "outputs": [],
   "source": [
    "# define filename for data\n",
    "output_path = 'canadacannabisdispensary.csv'\n",
    "\n",
    "# overwrite previous file with new file containing previous and new data\n",
    "df.to_csv(output_path, index = False)"
   ]
  },
  {
   "cell_type": "code",
   "execution_count": null,
   "metadata": {},
   "outputs": [],
   "source": []
  }
 ],
 "metadata": {
  "kernelspec": {
   "display_name": "Python 3",
   "language": "python",
   "name": "python3"
  },
  "language_info": {
   "codemirror_mode": {
    "name": "ipython",
    "version": 3
   },
   "file_extension": ".py",
   "mimetype": "text/x-python",
   "name": "python",
   "nbconvert_exporter": "python",
   "pygments_lexer": "ipython3",
   "version": "3.8.5"
  }
 },
 "nbformat": 4,
 "nbformat_minor": 4
}
